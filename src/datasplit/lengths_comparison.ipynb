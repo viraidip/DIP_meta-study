{
 "cells": [
  {
   "cell_type": "code",
   "execution_count": null,
   "metadata": {},
   "outputs": [],
   "source": [
    "import os\n",
    "import sys\n",
    "\n",
    "import numpy as np\n",
    "import pandas as pd\n",
    "import matplotlib.pyplot as plt\n",
    "\n",
    "from collections import Counter\n",
    "\n",
    "sys.path.insert(0, \"..\")\n",
    "from utils import load_all, get_dataset_names, scheirer_ray_hare_test, calc_cliffs_d\n",
    "from utils import RESULTSPATH, CMAP, SEGMENTS\n",
    "from overall_comparision.general_analyses import calc_DI_lengths\n",
    "\n",
    "plt.style.use(\"seaborn\")"
   ]
  },
  {
   "cell_type": "markdown",
   "metadata": {},
   "source": [
    "## Load data and preprocessing"
   ]
  },
  {
   "cell_type": "code",
   "execution_count": 2,
   "metadata": {},
   "outputs": [],
   "source": [
    "# in vitro against in vivo datasets\n",
    "vitro_dfnames = get_dataset_names(cutoff=40, selection=\"in vitro\")\n",
    "vitro_dfs, _ = load_all(vitro_dfnames)\n",
    "vivo_dfnames = get_dataset_names(cutoff=40, selection=\"in vivo mouse\")\n",
    "vivo_dfs, _ = load_all(vivo_dfnames)\n",
    "human_dfnames = get_dataset_names(cutoff=40, selection=\"in vivo human\")\n",
    "human_dfs, _ = load_all(human_dfnames)"
   ]
  },
  {
   "cell_type": "code",
   "execution_count": 3,
   "metadata": {},
   "outputs": [],
   "source": [
    "IAV_dfnames = get_dataset_names(cutoff=40, selection=\"IAV\")\n",
    "IBV_dfnames = get_dataset_names(cutoff=40, selection=\"IBV\")\n",
    "\n",
    "vitro_dfnames = get_dataset_names(cutoff=40, selection=\"in vitro\")\n",
    "vivo_dfnames = get_dataset_names(cutoff=40, selection=\"in vivo mouse\")    \n",
    "human_dfnames = get_dataset_names(cutoff=40, selection=\"in vivo human\")\n",
    "\n",
    "def get_IV_type(datasetname):\n",
    "    if datasetname in IAV_dfnames:\n",
    "        return \"IAV\"\n",
    "    elif datasetname in IBV_dfnames:\n",
    "        return \"IBV\"\n",
    "    else:\n",
    "        return \"error\"\n",
    "    \n",
    "def get_host_system(datasetname):\n",
    "    if datasetname in vitro_dfnames:\n",
    "        return \"in vitro\"\n",
    "    elif datasetname in vivo_dfnames:\n",
    "        return \"in vivo mouse\"\n",
    "    elif datasetname in human_dfnames:\n",
    "        return \"in vivo human\"\n",
    "    else:\n",
    "        return \"error\""
   ]
  },
  {
   "cell_type": "markdown",
   "metadata": {},
   "source": [
    "### Create subplots for figure 2"
   ]
  },
  {
   "cell_type": "code",
   "execution_count": null,
   "metadata": {},
   "outputs": [
    {
     "name": "stdout",
     "output_type": "stream",
     "text": [
      "PB2\n",
      "U:\t1250954.0\n",
      "\t3.018809726447335e-33\n",
      "U:\t939684.5\n",
      "\t9.143481652041818e-125\n",
      "U:\t584813.0\n",
      "\t5.139704486495526e-27\n",
      "PB1\n",
      "U:\t4358330.5\n",
      "\t4.2476833314993497e-47\n",
      "U:\t2215338.5\n",
      "\t1.0676095607719163e-124\n",
      "U:\t1541022.0\n",
      "\t3.8007096887894955e-49\n",
      "PA\n",
      "U:\t3624901.0\n",
      "\t2.173110654483113e-36\n",
      "U:\t1886535.5\n",
      "\t1.3993510860120682e-59\n",
      "U:\t1754845.0\n",
      "\t1.879239982011875e-07\n"
     ]
    }
   ],
   "source": [
    "def compare_DI_lengths(dfs: list, dfnames: list, labels: str, analysis: str=\"\")-> None:\n",
    "    '''\n",
    "        compares the lengths of the DelVGs between three classes.\n",
    "        :param dfs: list of datasets\n",
    "        :param dfnames: list of dataset names\n",
    "        :param label: label for the datasets\n",
    "        :param analysis: string to define the performed analysis.\n",
    "                         needed for figure saving\n",
    "\n",
    "        :return: None\n",
    "    '''\n",
    "    def process_data(dfs, dfnames):\n",
    "        lengths_dict = calc_DI_lengths(dfs, dfnames)\n",
    "        final_d = dict({\"PB2\": Counter(), \"PB1\": Counter(), \"PA\": Counter(), \"HA\": Counter(), \"NP\": Counter(), \"NA\": Counter(), \"M\": Counter(), \"NS\": Counter()})\n",
    "        for d in lengths_dict.values():\n",
    "            for s in d.keys():\n",
    "                final_d[s] += Counter(d[s])\n",
    "        return final_d\n",
    "\n",
    "    def calc_stats(x_1, x_2, s, e, h):\n",
    "        cliffs_d = calc_cliffs_d(x_1, x_2)\n",
    "        plt.plot([s, e], [h, h], lw=1, color=\"black\")\n",
    "        plt.plot([s, s], [h, h+0.0002], lw=1, color=\"black\")\n",
    "        plt.plot([e, e], [h, h+0.0002], lw=1, color=\"black\")\n",
    "        if s == 800 and e == 1900:\n",
    "            text_loc = (s+e+100)/2\n",
    "        else:\n",
    "            text_loc = (s+e)/2\n",
    "        plt.text(text_loc, h-0.0007, f\"{cliffs_d:.2f}\", ha=\"center\", va=\"bottom\", color=\"black\")\n",
    "        return\n",
    "    \n",
    "    dicts = [process_data(df, name) for df, name in zip(dfs, dfnames)]\n",
    "    figsize = (6, 2) if analysis == \"vivo_vitro\" else (5, 2)\n",
    "    cm = plt.get_cmap(CMAP)\n",
    "    colors = [cm(0/8), cm(3/8), cm(1/8)]\n",
    "    bins = 30\n",
    "    for s in [\"PB2\", \"PB1\", \"PA\"]:\n",
    "        lists = [[k for k, v in d[s].items() for _ in range(v)] for d in dicts]\n",
    "        max_p = max(max(l) for l in lists)\n",
    "        skip = False\n",
    "        for l in lists:\n",
    "            if len(l) < 1:\n",
    "                skip = True\n",
    "        if skip == True:\n",
    "            continue\n",
    "        \n",
    "        plt.figure(figsize=figsize, tight_layout=True)\n",
    "        for i, l in enumerate(lists):\n",
    "            plt.hist(l, alpha=0.5, label=labels[i], bins=bins, range=(0, max_p), density=True, color=colors[i])\n",
    "\n",
    "        if len(lists) == 3:\n",
    "            print(s)\n",
    "            calc_stats(lists[0], lists[1], 800, 1300, 0.0025)\n",
    "            calc_stats(lists[0], lists[2], 800, 1900, 0.0031)\n",
    "            calc_stats(lists[1], lists[2], 1300, 1900, 0.0038)\n",
    "        \n",
    "        plt.ylim(0, 0.005)\n",
    "        plt.xlim(0, 2500)\n",
    "        plt.yticks([0, 0.0025, 0.005])\n",
    "        plt.xticks([0, 500, 1000, 1500, 2000, 2500])\n",
    "        plt.xlabel(f\"DelVG sequence length for {s} (nt)\")\n",
    "        plt.ylabel(\"Probability density         \")\n",
    "        plt.legend(loc=\"upper center\", ncol=3)\n",
    "\n",
    "        save_path = os.path.join(RESULTSPATH, \"datasplits\")\n",
    "        if not os.path.exists(save_path):\n",
    "            os.makedirs(save_path)\n",
    "        plt.tight_layout()\n",
    "        plt.savefig(os.path.join(save_path, f\"{s}_{analysis}.png\"), dpi=300)\n",
    "        plt.close()\n",
    "\n",
    "labels = [\"in vitro\", \"mouse\", \"human\"]\n",
    "compare_DI_lengths([vitro_dfs, vivo_dfs, human_dfs], [vitro_dfnames, vivo_dfnames, human_dfnames], labels, analysis=\"vivo_vitro\")"
   ]
  },
  {
   "cell_type": "markdown",
   "metadata": {},
   "source": [
    "## SRH test"
   ]
  },
  {
   "cell_type": "code",
   "execution_count": 5,
   "metadata": {},
   "outputs": [],
   "source": [
    "lengths_dict = calc_DI_lengths(vitro_dfs + vivo_dfs + human_dfs, vitro_dfnames + vivo_dfnames + human_dfnames)"
   ]
  },
  {
   "cell_type": "code",
   "execution_count": 6,
   "metadata": {},
   "outputs": [],
   "source": [
    "data = dict({s: pd.DataFrame({\"Measure\": list(),\"IV_type\": list(),\"Host_system\": list() }) for s in SEGMENTS})\n",
    "data[\"Pooled\"] = pd.DataFrame({\"Measure\": list(),\"IV_type\": list(),\"Host_system\": list() })\n",
    "\n",
    "seg_counts = dict({s: 0 for s in SEGMENTS})\n",
    "\n",
    "for dfname in vitro_dfnames + vivo_dfnames + human_dfnames:\n",
    "    for seg in SEGMENTS:\n",
    "        values_lengths = lengths_dict[dfname][seg]\n",
    "        total_sum = sum(key * value for key, value in values_lengths.items())\n",
    "        total_count = sum(values_lengths.values())\n",
    "        if total_count > 0:\n",
    "            mean = total_sum / total_count\n",
    "        else:\n",
    "            mean = 0\n",
    "        \n",
    "        seg_counts[seg] += total_count\n",
    "        \n",
    "        temp_data = pd.DataFrame({\n",
    "            \"Measure\": [mean],\n",
    "            \"IV_type\": [get_IV_type(dfname)],\n",
    "            \"Host_system\": [get_host_system(dfname)]\n",
    "        })\n",
    "        data[seg] = pd.concat([data[seg], temp_data], ignore_index=True)\n",
    "\n",
    "data[\"Pooled\"] = pd.DataFrame({\"Measure\": list([0]*20),\"IV_type\": data[\"PB1\"][\"IV_type\"],\"Host_system\": list(data[\"PB1\"][\"Host_system\"]) })\n",
    "\n",
    "for s in SEGMENTS:\n",
    "    data[\"Pooled\"][\"Measure\"] += data[s][\"Measure\"] * seg_counts[s]\n",
    "\n",
    "data[\"Pooled\"][\"Measure\"] /= sum(seg_counts.values())"
   ]
  },
  {
   "cell_type": "code",
   "execution_count": 8,
   "metadata": {},
   "outputs": [],
   "source": [
    "# filter out non-poly segments and in vivo mouse data\n",
    "for seg in [\"Pooled\"] + SEGMENTS:\n",
    "    data[seg] = data[seg][data[seg][\"Host_system\"] != \"in vivo mouse\"].reset_index(drop=True)"
   ]
  },
  {
   "cell_type": "markdown",
   "metadata": {},
   "source": [
    "### Comparison of the length means for in vitro/human and IAV/IBV"
   ]
  },
  {
   "cell_type": "code",
   "execution_count": 21,
   "metadata": {},
   "outputs": [
    {
     "name": "stdout",
     "output_type": "stream",
     "text": [
      "232.46842257664355\n",
      "120.60065363894739\n"
     ]
    }
   ],
   "source": [
    "temp = data[\"Pooled\"]\n",
    "\n",
    "mean_vitro = temp[temp[\"Host_system\"] == \"in vitro\"][\"Measure\"].mean()\n",
    "mean_human = temp[temp[\"Host_system\"] == \"in vivo human\"][\"Measure\"].mean()\n",
    "print(mean_human - mean_vitro)\n",
    "\n",
    "mean_iav = temp[temp[\"IV_type\"] == \"IAV\"][\"Measure\"].mean()\n",
    "mean_ibv = temp[temp[\"IV_type\"] == \"IBV\"][\"Measure\"].mean()\n",
    "print(mean_ibv - mean_iav)"
   ]
  },
  {
   "cell_type": "markdown",
   "metadata": {},
   "source": [
    "### Perform Scheirer-Ray-Hare test"
   ]
  },
  {
   "cell_type": "code",
   "execution_count": 9,
   "metadata": {},
   "outputs": [
    {
     "name": "stdout",
     "output_type": "stream",
     "text": [
      "Pooled\n",
      "IV type host  interaction\n",
      "1.93 6.91 7.16\n",
      "0.1651 0.0086 0.0074\n",
      "\n",
      "PB2\n",
      "IV type host  interaction\n",
      "3.55 7.47 4.98\n",
      "0.0596 0.0063 0.0257\n",
      "\n",
      "PB1\n",
      "IV type host  interaction\n",
      "0.8 4.88 10.33\n",
      "0.3722 0.0272 0.0013\n",
      "\n",
      "PA\n",
      "IV type host  interaction\n",
      "3.18 9.3 3.52\n",
      "0.0743 0.0023 0.0608\n",
      "\n"
     ]
    }
   ],
   "source": [
    "p_iv_list = list()\n",
    "p_host_list = list()\n",
    "p_inter_list = list()\n",
    "for seg in [\"Pooled\", \"PB2\", \"PB1\", \"PA\"]:\n",
    "    print(seg)\n",
    "    if seg == \"Pooled\":\n",
    "        H_iv, p_iv, H_host, p_host, H_int, p_int = scheirer_ray_hare_test(data[seg])\n",
    "    else:\n",
    "        H_iv, p_iv, H_host, p_host, H_int, p_int = scheirer_ray_hare_test(data[seg])\n",
    "    print(\"IV type host  interaction\")\n",
    "    print(round(H_iv,2), round(H_host,2), round(H_int,2))\n",
    "    print(round(p_iv,4), round(p_host,4), round(p_int,4))\n",
    "    print()\n",
    "    p_iv_list.append(p_iv)\n",
    "    p_host_list.append(p_host)\n",
    "    p_inter_list.append(p_int)"
   ]
  },
  {
   "cell_type": "markdown",
   "metadata": {},
   "source": [
    "## Supplement Figure "
   ]
  },
  {
   "cell_type": "code",
   "execution_count": 10,
   "metadata": {},
   "outputs": [],
   "source": [
    "# in vitro against in vivo human\n",
    "dfs = [vitro_dfs, human_dfs]\n",
    "dfnames = [vitro_dfnames, human_dfnames]\n",
    "labels = [\"in vitro\", \"human\"]\n",
    "compare_DI_lengths(dfs, dfnames, labels, analysis=\"vivo_vitrohuman\")\n",
    "\n",
    "# all IAV against all IBV datasets\n",
    "IAV_dfnames = get_dataset_names(cutoff=40, selection=\"IAV\")\n",
    "IAV_dfs, _ = load_all(IAV_dfnames)\n",
    "IBV_dfnames = get_dataset_names(cutoff=40, selection=\"IBV\")\n",
    "IBV_dfs, _ = load_all(IBV_dfnames)\n",
    "\n",
    "dfs = [IAV_dfs, IBV_dfs]\n",
    "dfnames = [IAV_dfnames, IBV_dfnames]\n",
    "labels = [\"IAV\", \"IBV\"]\n",
    "compare_DI_lengths(dfs, dfnames, labels, analysis=\"IAV_IBV\")\n",
    "\n",
    "# in vitro all IAV against BLEE and Sheng\n",
    "vitro_iav_dfs = list()\n",
    "vitro_iav_dfnames = list()\n",
    "vitro_ibv_dfs = list()\n",
    "vitro_ibv_dfnames = list()\n",
    "for df, dfname in zip(vitro_dfs, vitro_dfnames):\n",
    "    if dfname in [\"Alnaji2019_BLEE\", \"Sheng2018\"]:\n",
    "        vitro_ibv_dfs.append(df)\n",
    "        vitro_ibv_dfnames.append(dfname)\n",
    "    else:\n",
    "        vitro_iav_dfs.append(df)\n",
    "        vitro_iav_dfnames.append(dfname)\n",
    "\n",
    "dfs = [vitro_iav_dfs, vitro_ibv_dfs]\n",
    "dfnames = [vitro_iav_dfnames, vitro_ibv_dfnames]\n",
    "labels = [\"IAV in vitro\", \"IBV in vitro\"]\n",
    "compare_DI_lengths(dfs, dfnames, labels, analysis=\"vitro_IAV\")\n",
    "\n",
    "# in vivo human all IBV against Berry A\n",
    "vivo_iav_dfs = list()\n",
    "vivo_iav_dfnames = list()\n",
    "vivo_ibv_dfs = list()\n",
    "vivo_ibv_dfnames = list()\n",
    "for df, dfname in zip(human_dfs, human_dfnames):\n",
    "    if dfname == \"Berry2021_A\":\n",
    "        vivo_iav_dfs.append(df)\n",
    "        vivo_iav_dfnames.append(dfname)\n",
    "    else:\n",
    "        vivo_ibv_dfs.append(df)\n",
    "        vivo_ibv_dfnames.append(dfname)\n",
    "\n",
    "dfs = [vivo_iav_dfs, vivo_ibv_dfs]\n",
    "dfnames = [vivo_iav_dfnames, vivo_ibv_dfnames]\n",
    "labels = [\"IAV human\", \"IBV human\"]\n",
    "compare_DI_lengths(dfs, dfnames, labels, analysis=\"vivo_IBV\")\n",
    "\n",
    "# IAV vitro vs vivo human\n",
    "dfs = [vitro_iav_dfs, vivo_iav_dfs]\n",
    "dfnames = [vitro_iav_dfnames, vitro_ibv_dfnames]\n",
    "labels = [\"IAV in vitro\", \"IAV human\"]\n",
    "compare_DI_lengths(dfs, dfnames, labels, analysis=\"IAV_vitro_vivo\")\n",
    "\n",
    "# IBV vitro vs vivo human\n",
    "dfs = [vitro_ibv_dfs, vivo_ibv_dfs]\n",
    "dfnames = [vivo_iav_dfnames, vivo_ibv_dfnames]\n",
    "labels = [\"IBV in vitro\", \"IBV human\"]\n",
    "compare_DI_lengths(dfs, dfnames ,labels, analysis=\"IBV_vitro_vivo\")"
   ]
  }
 ],
 "metadata": {
  "kernelspec": {
   "display_name": "dips",
   "language": "python",
   "name": "python3"
  },
  "language_info": {
   "codemirror_mode": {
    "name": "ipython",
    "version": 3
   },
   "file_extension": ".py",
   "mimetype": "text/x-python",
   "name": "python",
   "nbconvert_exporter": "python",
   "pygments_lexer": "ipython3",
   "version": "3.9.12"
  }
 },
 "nbformat": 4,
 "nbformat_minor": 2
}
