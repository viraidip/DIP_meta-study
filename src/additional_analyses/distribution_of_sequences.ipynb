{
 "cells": [
  {
   "cell_type": "code",
   "execution_count": null,
   "metadata": {},
   "outputs": [],
   "source": [
    "import sys\n",
    "\n",
    "import pandas as pd\n",
    "\n",
    "sys.path.insert(0, \"..\")\n",
    "from utils import load_all, get_dataset_names"
   ]
  },
  {
   "cell_type": "markdown",
   "metadata": {},
   "source": [
    "## Load data and preprocessing"
   ]
  },
  {
   "cell_type": "code",
   "execution_count": 3,
   "metadata": {},
   "outputs": [],
   "source": [
    "dfnames = get_dataset_names(cutoff=40)\n",
    "dfs, _ = load_all(dfnames, expected=False)"
   ]
  },
  {
   "cell_type": "code",
   "execution_count": 4,
   "metadata": {},
   "outputs": [],
   "source": [
    "IAV_dfnames = get_dataset_names(cutoff=40, selection=\"IAV\")\n",
    "IBV_dfnames = get_dataset_names(cutoff=40, selection=\"IBV\")\n",
    "\n",
    "vitro_dfnames = get_dataset_names(cutoff=40, selection=\"in vitro\")\n",
    "vivo_dfnames = get_dataset_names(cutoff=40, selection=\"in vivo mouse\")    \n",
    "human_dfnames = get_dataset_names(cutoff=40, selection=\"in vivo human\")\n",
    "\n",
    "def get_IV_type(datasetname):\n",
    "    if datasetname in IAV_dfnames:\n",
    "        return \"IAV\"\n",
    "    elif datasetname in IBV_dfnames:\n",
    "        return \"IBV\"\n",
    "    else:\n",
    "        return \"error\"\n",
    "    \n",
    "def get_host_system(datasetname):\n",
    "    if datasetname in vitro_dfnames:\n",
    "        return \"in vitro\"\n",
    "    elif datasetname in vivo_dfnames:\n",
    "        return \"in vivo mouse\"\n",
    "    elif datasetname in human_dfnames:\n",
    "        return \"in vivo human\"\n",
    "    else:\n",
    "        return \"error\""
   ]
  },
  {
   "cell_type": "code",
   "execution_count": 5,
   "metadata": {},
   "outputs": [
    {
     "data": {
      "text/html": [
       "<div>\n",
       "<style scoped>\n",
       "    .dataframe tbody tr th:only-of-type {\n",
       "        vertical-align: middle;\n",
       "    }\n",
       "\n",
       "    .dataframe tbody tr th {\n",
       "        vertical-align: top;\n",
       "    }\n",
       "\n",
       "    .dataframe thead th {\n",
       "        text-align: right;\n",
       "    }\n",
       "</style>\n",
       "<table border=\"1\" class=\"dataframe\">\n",
       "  <thead>\n",
       "    <tr style=\"text-align: right;\">\n",
       "      <th></th>\n",
       "      <th>in vitro</th>\n",
       "      <th>in vivo mouse</th>\n",
       "      <th>in vivo human</th>\n",
       "      <th>overall</th>\n",
       "    </tr>\n",
       "  </thead>\n",
       "  <tbody>\n",
       "    <tr>\n",
       "      <th>IAV</th>\n",
       "      <td>11517</td>\n",
       "      <td>6492</td>\n",
       "      <td>1080</td>\n",
       "      <td>19089</td>\n",
       "    </tr>\n",
       "    <tr>\n",
       "      <th>IBV</th>\n",
       "      <td>541</td>\n",
       "      <td>0</td>\n",
       "      <td>3735</td>\n",
       "      <td>4276</td>\n",
       "    </tr>\n",
       "    <tr>\n",
       "      <th>overall</th>\n",
       "      <td>12058</td>\n",
       "      <td>6492</td>\n",
       "      <td>4815</td>\n",
       "      <td>23365</td>\n",
       "    </tr>\n",
       "  </tbody>\n",
       "</table>\n",
       "</div>"
      ],
      "text/plain": [
       "         in vitro  in vivo mouse  in vivo human  overall\n",
       "IAV         11517           6492           1080    19089\n",
       "IBV           541              0           3735     4276\n",
       "overall     12058           6492           4815    23365"
      ]
     },
     "execution_count": 5,
     "metadata": {},
     "output_type": "execute_result"
    }
   ],
   "source": [
    "data = {\n",
    "    \"in vitro\": [0, 0, 0],\n",
    "    \"in vivo mouse\": [0, 0, 0],\n",
    "    \"in vivo human\": [0, 0, 0],\n",
    "    \"overall\": [0, 0, 0]\n",
    "}\n",
    "\n",
    "for df, dfname in zip(dfs, dfnames):\n",
    "    n = df.shape[0]\n",
    "    IV_type = get_IV_type(dfname)\n",
    "    host = get_host_system(dfname)\n",
    "    index = 0 if IV_type == \"IAV\" else 1\n",
    "\n",
    "    data[host][index] += n\n",
    "    data[host][2] += n\n",
    "    data[\"overall\"][index] += n\n",
    "    data[\"overall\"][2] += n\n",
    "\n",
    "df = pd.DataFrame(data, index=[\"IAV\", \"IBV\", \"overall\"])\n",
    "df"
   ]
  },
  {
   "cell_type": "code",
   "execution_count": 7,
   "metadata": {},
   "outputs": [
    {
     "name": "stdout",
     "output_type": "stream",
     "text": [
      "PB2\n",
      "         in vitro  in vivo mouse  in vivo human  overall\n",
      "IAV          2621           1209            102     3932\n",
      "IBV           101              0           1186     1287\n",
      "overall      2722           1209           1288     5219\n",
      "PB1\n",
      "         in vitro  in vivo mouse  in vivo human  overall\n",
      "IAV          4289           2518            161     6968\n",
      "IBV            83              0           1512     1595\n",
      "overall      4372           2518           1673     8563\n",
      "PA\n",
      "         in vitro  in vivo mouse  in vivo human  overall\n",
      "IAV          3416           2560            689     6665\n",
      "IBV            77              0            830      907\n",
      "overall      3493           2560           1519     7572\n"
     ]
    }
   ],
   "source": [
    "for s in [\"PB2\", \"PB1\", \"PA\"]:\n",
    "    data = {\n",
    "        \"in vitro\": [0, 0, 0],\n",
    "        \"in vivo mouse\": [0, 0, 0],\n",
    "        \"in vivo human\": [0, 0, 0],\n",
    "        \"overall\": [0, 0, 0]\n",
    "    }\n",
    "\n",
    "    print(s)\n",
    "    for df, dfname in zip(dfs, dfnames):\n",
    "        t_df = df[df[\"Segment\"] == s]\n",
    "        n = t_df.shape[0]\n",
    "        IV_type = get_IV_type(dfname)\n",
    "        host = get_host_system(dfname)\n",
    "        index = 0 if IV_type == \"IAV\" else 1\n",
    "\n",
    "        data[host][index] += n\n",
    "        data[host][2] += n\n",
    "        data[\"overall\"][index] += n\n",
    "        data[\"overall\"][2] += n\n",
    "\n",
    "    df = pd.DataFrame(data, index=[\"IAV\", \"IBV\", \"overall\"])\n",
    "    print(df)"
   ]
  }
 ],
 "metadata": {
  "kernelspec": {
   "display_name": "dips",
   "language": "python",
   "name": "python3"
  },
  "language_info": {
   "codemirror_mode": {
    "name": "ipython",
    "version": 3
   },
   "file_extension": ".py",
   "mimetype": "text/x-python",
   "name": "python",
   "nbconvert_exporter": "python",
   "pygments_lexer": "ipython3",
   "version": "3.9.12"
  }
 },
 "nbformat": 4,
 "nbformat_minor": 2
}
